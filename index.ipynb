{
 "cells": [
  {
   "cell_type": "markdown",
   "metadata": {},
   "source": [
    "# Subplots and Enumeration - Lab\n",
    "\n",
    "## Introduction\n",
    "\n",
    "In this lab, we'll get some practice creating **_subplots_**, and explore how we can use the `enumerate` keyword to make creating them a bit easier!\n",
    "\n",
    "## Objectives\n",
    "\n",
    "You will be able to:\n",
    "\n",
    "* Use python's `enumerate` keyword for lists where we also to access the index\n",
    "* Create basic subplots with matplotlib\n",
    "* Use `enumerate` to write effective, pythonic code when creating subplots\n",
    "\n",
    "## Getting Started\n",
    "\n",
    "For this lab, we'll explore a dataset containing yearly population data about different countries and regions around the globe. Let's start by importing the dataset so we can get to work.\n",
    "\n",
    "In the cell below: \n",
    "\n",
    "* Import pandas and set the standard alias of `pd`\n",
    "* Import the `pyplot` module from `matplotlib` and set the standard alias of `plt`\n",
    "* Set matplotlib visualizations to appear inline with the command `%matplotlib inline`"
   ]
  },
  {
   "cell_type": "code",
   "execution_count": 4,
   "metadata": {},
   "outputs": [],
   "source": [
    "import pandas as pd\n",
    "\n",
    "import matplotlib.pyplot as plt\n",
    "\n",
    "%matplotlib inline\n"
   ]
  },
  {
   "cell_type": "markdown",
   "metadata": {},
   "source": [
    "Now, let's import the dataset. \n",
    "\n",
    "In the cell below:\n",
    "\n",
    "* Use pandas to read in the data stored in the file `population.csv`.\n",
    "* Print the head of the dataframe to ensure everything loaded correctly and get a feel for what this dataset contains. "
   ]
  },
  {
   "cell_type": "code",
   "execution_count": 5,
   "metadata": {},
   "outputs": [
    {
     "data": {
      "text/html": [
       "<div>\n",
       "<style scoped>\n",
       "    .dataframe tbody tr th:only-of-type {\n",
       "        vertical-align: middle;\n",
       "    }\n",
       "\n",
       "    .dataframe tbody tr th {\n",
       "        vertical-align: top;\n",
       "    }\n",
       "\n",
       "    .dataframe thead th {\n",
       "        text-align: right;\n",
       "    }\n",
       "</style>\n",
       "<table border=\"1\" class=\"dataframe\">\n",
       "  <thead>\n",
       "    <tr style=\"text-align: right;\">\n",
       "      <th></th>\n",
       "      <th>Country Name</th>\n",
       "      <th>Country Code</th>\n",
       "      <th>Year</th>\n",
       "      <th>Value</th>\n",
       "    </tr>\n",
       "  </thead>\n",
       "  <tbody>\n",
       "    <tr>\n",
       "      <th>0</th>\n",
       "      <td>Arab World</td>\n",
       "      <td>ARB</td>\n",
       "      <td>1960</td>\n",
       "      <td>92490932.0</td>\n",
       "    </tr>\n",
       "    <tr>\n",
       "      <th>1</th>\n",
       "      <td>Arab World</td>\n",
       "      <td>ARB</td>\n",
       "      <td>1961</td>\n",
       "      <td>95044497.0</td>\n",
       "    </tr>\n",
       "    <tr>\n",
       "      <th>2</th>\n",
       "      <td>Arab World</td>\n",
       "      <td>ARB</td>\n",
       "      <td>1962</td>\n",
       "      <td>97682294.0</td>\n",
       "    </tr>\n",
       "    <tr>\n",
       "      <th>3</th>\n",
       "      <td>Arab World</td>\n",
       "      <td>ARB</td>\n",
       "      <td>1963</td>\n",
       "      <td>100411076.0</td>\n",
       "    </tr>\n",
       "    <tr>\n",
       "      <th>4</th>\n",
       "      <td>Arab World</td>\n",
       "      <td>ARB</td>\n",
       "      <td>1964</td>\n",
       "      <td>103239902.0</td>\n",
       "    </tr>\n",
       "  </tbody>\n",
       "</table>\n",
       "</div>"
      ],
      "text/plain": [
       "  Country Name Country Code  Year        Value\n",
       "0   Arab World          ARB  1960   92490932.0\n",
       "1   Arab World          ARB  1961   95044497.0\n",
       "2   Arab World          ARB  1962   97682294.0\n",
       "3   Arab World          ARB  1963  100411076.0\n",
       "4   Arab World          ARB  1964  103239902.0"
      ]
     },
     "execution_count": 5,
     "metadata": {},
     "output_type": "execute_result"
    }
   ],
   "source": [
    "df = pd.read_csv(\"population.csv\")\n",
    "df.head()\n"
   ]
  },
  {
   "cell_type": "markdown",
   "metadata": {},
   "source": [
    "Our columns look fairly standard. Let's take a look at the `value_counts()` of the `'country_name'` column to get a feel for how many years there are per country. \n",
    "\n",
    "Do this now in the cell below. "
   ]
  },
  {
   "cell_type": "code",
   "execution_count": 6,
   "metadata": {},
   "outputs": [
    {
     "data": {
      "text/plain": [
       "Cyprus                 57\n",
       "Georgia                57\n",
       "Upper middle income    57\n",
       "Botswana               57\n",
       "Ireland                57\n",
       "Name: Country Name, dtype: int64"
      ]
     },
     "execution_count": 6,
     "metadata": {},
     "output_type": "execute_result"
    }
   ],
   "source": [
    "df[\"Country Name\"].value_counts().head()"
   ]
  },
  {
   "cell_type": "markdown",
   "metadata": {},
   "source": [
    "## Groupings and Subplots\n",
    "\n",
    "When creating subplots, it makes sense that we'll usually want the plots to contain data that is related to one another, so that the subplots will make it easy to visually compare and see trends or patterns. The easiest way to do this is to group our data by the types of information we're most interested in seeing. For this dataset, that means that we can group by `'Country Name'`, by `'Country Code'`, or by `'Year'`. Let's start by grouping by name.\n",
    "\n",
    "For our first subplot, we'll create 1 row containing 2 subplots. Let's start by getting some data for each of our plots. We'll start by getting some data to plot.  We'll do this by slicing data for the USA and Canada and storing them in separate variables. \n",
    "\n",
    "In the cell below:\n",
    "\n",
    "* Slice all the rows for '`United States`' and store them in the appropriate variable. \n",
    "* Slice all the rows for '`Canada`' and store them in the appropriate variable. \n",
    "* Inspect the `.head()` of each to ensure that we grabbed the data correctly. "
   ]
  },
  {
   "cell_type": "code",
   "execution_count": 7,
   "metadata": {},
   "outputs": [
    {
     "name": "stdout",
     "output_type": "stream",
     "text": [
      "<class 'pandas.core.frame.DataFrame'>\n",
      "Int64Index: 57 entries, 14288 to 14344\n",
      "Data columns (total 4 columns):\n",
      "Country Name    57 non-null object\n",
      "Country Code    57 non-null object\n",
      "Year            57 non-null int64\n",
      "Value           57 non-null float64\n",
      "dtypes: float64(1), int64(1), object(2)\n",
      "memory usage: 2.2+ KB\n"
     ]
    }
   ],
   "source": [
    "usa = df[df[\"Country Name\"]==\"United States\"]\n",
    "\n",
    "\n",
    "canada = df[df[\"Country Name\"]==\"Canada\"]\n",
    "\n",
    "usa.info()\n"
   ]
  },
  {
   "cell_type": "markdown",
   "metadata": {},
   "source": [
    "Now that we have our data ready to go, lets go ahead and create a basic subplot. For our first batch of subplots, we'll use the quick way by making use of `plt.subplot()` and passing in the number of rows, number of columns, and the number of the subplot that we want to create. Then, we'll create our plot by passing in the corresponding data. \n",
    "\n",
    "When we call `plt.subplot()`, it will return an `ax` (short for 'axis') object that corresponds to the 3rd parameter we pass in--the actual plot we will want to create. To create subplots on the fly with this method, we'll:\n",
    "\n",
    "1. Get the `ax` object for the first plot  in the subplot we want to create. Store this in the variable `ax1`.\n",
    "2. Call `.plot()` on the `usa` DataFrame, and specify the following parameters:\n",
    "    * `x='Year'`\n",
    "    * `y='Value'`\n",
    "    * `ax=ax1`\n",
    "3. Use the `ax1` object's methods to do any labeling we find necessary.\n",
    "4. Repeat the process for `canada` with the second plot. Store this axis in `ax2`.  \n",
    "\n",
    "Do this now in the cell below. "
   ]
  },
  {
   "cell_type": "raw",
   "metadata": {},
   "source": []
  },
  {
   "cell_type": "code",
   "execution_count": 8,
   "metadata": {},
   "outputs": [
    {
     "data": {
      "text/plain": [
       "(0.5, 1.0, 'Canada')"
      ]
     },
     "execution_count": 8,
     "metadata": {},
     "output_type": "execute_result"
    },
    {
     "data": {
      "image/png": "[encoded data removed]",
      "text/plain": [
       "<Figure size 432x288 with 2 Axes>"
      ]
     },
     "metadata": {
      "needs_background": "light"
     },
     "output_type": "display_data"
    }
   ],
   "source": [
    "ax1 = plt.subplot(1, 2, 1)\n",
    "usa.plot(x='Year', y='Value', ax=ax1)\n",
    "ax1.set_title(\"USA\")\n",
    "\n",
    "ax2 = plt.subplot(1, 2, 2)\n",
    "canada.plot(x='Year', y='Value', ax=ax2)\n",
    "ax2.set_title('Canada')\n",
    "(0.5, 1.0, 'Canada')\n"
   ]
  },
  {
   "cell_type": "markdown",
   "metadata": {},
   "source": [
    "Our plots look pretty good, but they're a bit squished together, and the plots themselves are much too small, which squishes the axis values.  Both of these problems have an easy fix. We'll begin by using `plt.figure()` and passing in a larger `figsize` of `(20, 10)` to tell matplotlib we want the full subplot to be 20 inches by 10.  \n",
    "\n",
    "We can fix the spacing quite easily by using `plt.subplots_adjust()` and changing the amount of space in between our plots. The [documentation for `subplots_adjust`](https://matplotlib.org/api/_as_gen/matplotlib.pyplot.subplots_adjust.html) tells us that the parameter we need to adjust is `wspace`. This is set to `0.2` by default, meaning that the amount of space between our plots is equal to 20% of the width of the plots. Let's set `wspace=0.4`, and see how that looks.\n",
    "\n",
    "In the cell below: \n",
    "\n",
    "* Call `plt.figure()` and use the `figsize` parameter to set the size of the total subplot to 20 inches wide by 10 inches tall. Remember to pass these values in as a tuple, with width first and height second. \n",
    "* Copy the visualization code from the cell above into the cell below. \n",
    "* After setting the title for the Canada plot, add the line `plt.subplots_adjust()` and pass in the parameter `wspace=0.4`."
   ]
  },
  {
   "cell_type": "code",
   "execution_count": 9,
   "metadata": {},
   "outputs": [
    {
     "data": {
      "image/png": "[encoded data removed]",
      "text/plain": [
       "<Figure size 1440x720 with 2 Axes>"
      ]
     },
     "metadata": {
      "needs_background": "light"
     },
     "output_type": "display_data"
    }
   ],
   "source": [
    "plt.figure(figsize=(20, 10))\n",
    "ax1 = plt.subplot(1, 2, 1)\n",
    "usa.plot(x='Year', y='Value', ax=ax1)\n",
    "ax1.set_title(\"USA\")\n",
    "\n",
    "ax2 = plt.subplot(1, 2, 2)\n",
    "canada.plot(x='Year', y='Value', ax=ax2)\n",
    "ax2.set_title('Canada')\n",
    "plt.subplots_adjust(wspace=0.9)\n"
   ]
  },
  {
   "cell_type": "markdown",
   "metadata": {},
   "source": [
    "Much better!\n",
    "\n",
    "Next, we'll see some advanced methods for creating subplots. But, before we do that, let's take a brief detour and learn about the `enumerate` keyword!\n",
    "\n",
    "## Using `enumerate()`\n",
    "\n",
    "Python's `enumerate()` keyword is a special type of for loop. It works just like a regular for-loop, with 1 major difference--instead of just returning the next object with each iteration of the loop, it also returns the index of the object from the collection we're looping through! \n",
    "\n",
    "Run the example code in the cell below, and examine the output. That should make it clear what is happening. "
   ]
  },
  {
   "cell_type": "code",
   "execution_count": null,
   "metadata": {},
   "outputs": [],
   "source": [
    "sample_list = ['foo', 'bar', 'baz']\n",
    "\n",
    "for index, value in enumerate(sample_list):\n",
    "    print(\"Index: {}      Value: {}\".format(index, value))    "
   ]
  },
  {
   "cell_type": "markdown",
   "metadata": {},
   "source": [
    "The `enumerate` keyword is extremely helpful anytime we're iterating over and object and want to reference the index of the current iteration. Let's try an example.\n",
    "\n",
    "In the cell below: \n",
    "* `enumerate()` through `sample_list_2` in the cell below\n",
    "* For any item in `sample_list_2`, append it to the `odds` list if it's index is an odd number. \n",
    "* Once the loop has finished, print `odds`."
   ]
  },
  {
   "cell_type": "code",
   "execution_count": null,
   "metadata": {},
   "outputs": [],
   "source": [
    "sample_list_2 = ['item at Index ' + str(i) for i in range(10)]\n",
    "odds = []\n",
    "\n",
    "# Write your code below this line\n",
    "\n",
    "\n",
    "\n",
    "# Write your code above this line\n",
    "\n",
    "odds\n",
    "# Expected Output: \n",
    "# ['item at Index 1',\n",
    "#  'item at Index 3',\n",
    "#  'item at Index 5',\n",
    "#  'item at Index 7',\n",
    "#  'item at Index 9']"
   ]
  },
  {
   "cell_type": "markdown",
   "metadata": {},
   "source": [
    "Great! There are plenty of situations where `enumerate()` comes in very handy. One example is when generating subplots.\n",
    "\n",
    "## Enumerating with Subplots\n",
    "\n",
    "To end this lab, we'll see how we can use `enumerate` to easily subplot this entire dataframe by country--all 263 of them!\n",
    "\n",
    "It will work like this. We'll begin by grouping each row in our DataFrame by `'Country Name'`. Then, we'll create a `plt.figure()` and set the figure size to `(20,40)`. We'll also set the `facecolor` to `'white'`, so that it's a bit easier to read. \n",
    "\n",
    "Then comes the fun part. We'll enumerate through our grouped DataFrame. Just looping through a grouped DataFrame returns a tuple containing the index and the rows with that country name. Since we're grouped by `\"Country Name\"`, this means that the index will actually be the `'Country Name'`. However, we're not just looping through the grouped DataFrame--we're `enumerate`-ing through it! \n",
    "\n",
    "```python\n",
    "for index, (value1, value2) in enumerate(grouped_DataFrame):\n",
    "    # index is an integer, starting at 0 and counting up by 1 just \n",
    "    # like we would expect a for loop to do\n",
    "    \n",
    "    #(value1, value2) is a tuple containing the name of the country as value 1\n",
    "    # (since it is acting as the index because we grouped everything by it),\n",
    "    # and value 2 is all the rows that belong to that country's group. \n",
    "    \n",
    "```\n",
    "\n",
    "This means that the `index` for our enumeration will be an integer value that counts higher by 1 with each country. If we just add 1 to it (because subplots start counting at 1, but python starts counting at 0), then this number will correspond with the index we need to pass in as the third parameter in `plt.subplot()`--the parameter that specifies which plot inside the subplot should show the plot we're about to create. \n",
    "\n",
    "Don't worry if this seems confusing--the code below has been commented to help you. "
   ]
  },
  {
   "cell_type": "code",
   "execution_count": 10,
   "metadata": {},
   "outputs": [
    {
     "ename": "SyntaxError",
     "evalue": "can't assign to keyword (<ipython-input-10-fa67d7d691c5>, line 9)",
     "output_type": "error",
     "traceback": [
      "\u001b[0;36m  File \u001b[0;32m\"<ipython-input-10-fa67d7d691c5>\"\u001b[0;36m, line \u001b[0;32m9\u001b[0m\n\u001b[0;31m    for None, None in enumerate(grouped_df):\u001b[0m\n\u001b[0m       ^\u001b[0m\n\u001b[0;31mSyntaxError\u001b[0m\u001b[0;31m:\u001b[0m can't assign to keyword\n"
     ]
    }
   ],
   "source": [
    "# Group the DataFrame by Country Name--this line has been provided for you\n",
    "grouped_df = df.groupby('Country Name')\n",
    "\n",
    "# pass in figsize=(20,40), and also set the facecolor parameter to 'white'\n",
    "plt.figure(figsize=None, facecolor=None)\n",
    "\n",
    "# Complete the line below so that the first loop variable is the called index,\n",
    "# and the second loop variable is the tuple (countryname, population). \n",
    "for None, None in enumerate(grouped_df):\n",
    "    \n",
    "    # Get the unique subplot where the plot we're creating during this iteration\n",
    "    # of the loop will live. Our subplot will be 30 rows of 9 plots each. \n",
    "    # Set the third value to be index+1\n",
    "    ax = plt.subplot(30, 9, None)\n",
    "    \n",
    "    # Complete the line to create the plot for this subplot. \n",
    "    # Same visualizations as we created above!\n",
    "    population.plot(x=None, y=None, ax=None, legend=False)\n",
    "    \n",
    "    # Set the title of each plot, so we know which country it represents\n",
    "    ax.set_title(None)\n"
   ]
  },
  {
   "cell_type": "markdown",
   "metadata": {},
   "source": [
    "Great job! Being able to effectively create subplots with matplotlib is a solid data visualization skill to have--and using `enumerate()` makes our code that much simpler!\n",
    "\n",
    "## Summary\n",
    "\n",
    "In this lab, we learned how to create advanced subplots using `enumerate()` on grouped DataFrames!"
   ]
  }
 ],
 "metadata": {
  "kernelspec": {
   "display_name": "Python 3",
   "language": "python",
   "name": "python3"
  },
  "language_info": {
   "codemirror_mode": {
    "name": "ipython",
    "version": 3
   },
   "file_extension": ".py",
   "mimetype": "text/x-python",
   "name": "python",
   "nbconvert_exporter": "python",
   "pygments_lexer": "ipython3",
   "version": "3.6.6"
  }
 },
 "nbformat": 4,
 "nbformat_minor": 2
}
